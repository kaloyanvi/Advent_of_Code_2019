{
 "cells": [
  {
   "cell_type": "code",
   "execution_count": 35,
   "metadata": {},
   "outputs": [],
   "source": [
    "import math\n",
    "with open(\"input.txt\") as f:\n",
    "        lines = f.readlines()"
   ]
  },
  {
   "cell_type": "code",
   "execution_count": 36,
   "metadata": {},
   "outputs": [
    {
     "name": "stdout",
     "output_type": "stream",
     "text": [
      "3384232\n"
     ]
    }
   ],
   "source": [
    "fuel = 0\n",
    "for i in lines:\n",
    "    x = math.floor(int(i)/3)-2\n",
    "    fuel += x\n",
    "print(fuel)"
   ]
  },
  {
   "cell_type": "code",
   "execution_count": 37,
   "metadata": {
    "scrolled": true
   },
   "outputs": [
    {
     "name": "stdout",
     "output_type": "stream",
     "text": [
      "5073456\n"
     ]
    }
   ],
   "source": [
    "fuel = 0\n",
    "for i in lines:\n",
    "    x = math.floor(int(i)/3)-2\n",
    "    fuel += x\n",
    "    while x >0:\n",
    "        new = math.floor(x/3)-2\n",
    "        x = new\n",
    "        if x > 0:\n",
    "            fuel += x     \n",
    "print(fuel)"
   ]
  }
 ],
 "metadata": {
  "kernelspec": {
   "display_name": "Python 3",
   "language": "python",
   "name": "python3"
  },
  "language_info": {
   "codemirror_mode": {
    "name": "ipython",
    "version": 3
   },
   "file_extension": ".py",
   "mimetype": "text/x-python",
   "name": "python",
   "nbconvert_exporter": "python",
   "pygments_lexer": "ipython3",
   "version": "3.7.4"
  }
 },
 "nbformat": 4,
 "nbformat_minor": 2
}
